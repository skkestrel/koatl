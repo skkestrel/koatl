{
 "cells": [
  {
   "cell_type": "code",
   "execution_count": null,
   "id": "933226da",
   "metadata": {},
   "outputs": [
    {
     "name": "stdout",
     "output_type": "stream",
     "text": [
      "354224848179261915075\n"
     ]
    }
   ],
   "source": [
    "fib = Memo.fn& x =>\n",
    "    if x < 2:\n",
    "        return 1\n",
    "\n",
    "    let a = @fib(x - 1)\n",
    "    let b = @fib(x - 2)\n",
    "\n",
    "    a + b\n",
    "\n",
    "ctx = MemoCtx()\n",
    "fib(99).run(ctx) | print"
   ]
  },
  {
   "cell_type": "code",
   "execution_count": 4,
   "id": "42661425",
   "metadata": {},
   "outputs": [
    {
     "data": {
      "text/plain": [
       "1"
      ]
     },
     "execution_count": 4,
     "metadata": {},
     "output_type": "execute_result"
    }
   ],
   "source": [
    "f = () =>\n",
    "    let y = memo 1\n",
    "    let x = memo y\n",
    "    x\n",
    "\n",
    "f().run()"
   ]
  },
  {
   "cell_type": "code",
   "execution_count": 15,
   "id": "8ad0c6f9",
   "metadata": {},
   "outputs": [
    {
     "name": "stdout",
     "output_type": "stream",
     "text": [
      "1\n"
     ]
    }
   ],
   "source": [
    "a = 1\n",
    "if True:\n",
    "    print(a)"
   ]
  },
  {
   "cell_type": "code",
   "execution_count": 12,
   "id": "90696208",
   "metadata": {},
   "outputs": [
    {
     "name": "stdout",
     "output_type": "stream",
     "text": [
      "computing\n",
      "20\n",
      "20\n",
      "20\n"
     ]
    }
   ],
   "source": [
    "f2 = x =>\n",
    "    let a = @Memo(\n",
    "        () =>\n",
    "            print(\"computing\")\n",
    "            x * 2\n",
    "        [x]\n",
    "        \"m1\"\n",
    "    )\n",
    "\n",
    "    a\n",
    "\n",
    "ctx = MemoCtx()\n",
    "f2(10).run(ctx) | print\n",
    "f2(10).run(ctx) | print\n",
    "f2(10).run(ctx) | print"
   ]
  }
 ],
 "metadata": {
  "kernelspec": {
   "display_name": "Koatl",
   "language": "koatl",
   "name": "koatl"
  },
  "language_info": {
   "file_extension": ".tl",
   "mimetype": "text/x-koatl",
   "name": "koatl"
  }
 },
 "nbformat": 4,
 "nbformat_minor": 5
}
